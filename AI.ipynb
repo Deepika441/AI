{
  "nbformat": 4,
  "nbformat_minor": 0,
  "metadata": {
    "colab": {
      "provenance": [],
      "authorship_tag": "ABX9TyN5tNddBosYqZjYKselEPQU",
      "include_colab_link": true
    },
    "kernelspec": {
      "name": "python3",
      "display_name": "Python 3"
    },
    "language_info": {
      "name": "python"
    }
  },
  "cells": [
    {
      "cell_type": "markdown",
      "metadata": {
        "id": "view-in-github",
        "colab_type": "text"
      },
      "source": [
        "<a href=\"https://colab.research.google.com/github/Deepika441/AI/blob/main/AI.ipynb\" target=\"_parent\"><img src=\"https://colab.research.google.com/assets/colab-badge.svg\" alt=\"Open In Colab\"/></a>"
      ]
    },
    {
      "cell_type": "code",
      "execution_count": 1,
      "metadata": {
        "colab": {
          "base_uri": "https://localhost:8080/"
        },
        "id": "_bjxtyhsrHGI",
        "outputId": "7d3b491d-4118-45e3-e0e0-9f8d176ceacb"
      },
      "outputs": [
        {
          "output_type": "stream",
          "name": "stdout",
          "text": [
            "Original Data:\n",
            "    Values\n",
            "0       70\n",
            "1       67\n",
            "2       57\n",
            "3       64\n",
            "4       74\n",
            "5       65\n",
            "6       56\n",
            "7       59\n",
            "8       60\n",
            "9       63\n",
            "10      59\n",
            "11      53\n",
            "12      44\n",
            "13      61\n",
            "14      57\n",
            "15      71\n",
            "16      46\n",
            "17      53\n",
            "18      64\n",
            "19      40\n",
            "20      67\n",
            "\n",
            "Mean Removed Data:\n",
            "    Mean_Removed_Values\n",
            "0              10.47619\n",
            "1               7.47619\n",
            "2              -2.52381\n",
            "3               4.47619\n",
            "4              14.47619\n",
            "5               5.47619\n",
            "6              -3.52381\n",
            "7              -0.52381\n",
            "8               0.47619\n",
            "9               3.47619\n",
            "10             -0.52381\n",
            "11             -6.52381\n",
            "12            -15.52381\n",
            "13              1.47619\n",
            "14             -2.52381\n",
            "15             11.47619\n",
            "16            -13.52381\n",
            "17             -6.52381\n",
            "18              4.47619\n",
            "19            -19.52381\n",
            "20              7.47619\n",
            "\n",
            "Normalized Data:\n",
            "    Normalized_Values\n",
            "0            0.882353\n",
            "1            0.794118\n",
            "2            0.500000\n",
            "3            0.705882\n",
            "4            1.000000\n",
            "5            0.735294\n",
            "6            0.470588\n",
            "7            0.558824\n",
            "8            0.588235\n",
            "9            0.676471\n",
            "10           0.558824\n",
            "11           0.382353\n",
            "12           0.117647\n",
            "13           0.617647\n",
            "14           0.500000\n",
            "15           0.911765\n",
            "16           0.176471\n",
            "17           0.382353\n",
            "18           0.705882\n",
            "19           0.000000\n",
            "20           0.794118\n",
            "\n",
            "Standardized Data:\n",
            "0    -0.054054\n",
            "1    -0.094595\n",
            "2    -0.229730\n",
            "3    -0.135135\n",
            "4     0.000000\n",
            "5    -0.121622\n",
            "6    -0.243243\n",
            "7    -0.202703\n",
            "8    -0.189189\n",
            "9    -0.148649\n",
            "10   -0.202703\n",
            "11   -0.283784\n",
            "12   -0.405405\n",
            "13   -0.175676\n",
            "14   -0.229730\n",
            "15   -0.040541\n",
            "16   -0.378378\n",
            "17   -0.283784\n",
            "18   -0.135135\n",
            "19   -0.459459\n",
            "20   -0.094595\n",
            "Name: Values, dtype: float64\n"
          ]
        }
      ],
      "source": [
        "import pandas as pd\n",
        "import numpy as np\n",
        "from sklearn.preprocessing import StandardScaler\n",
        "file_path = 'data.csv'\n",
        "data = pd.read_csv(file_path, header=None, names=['Values'])\n",
        "print(\"Original Data:\")\n",
        "print(data)\n",
        "mean_values = np.mean(data['Values'])\n",
        "data['Mean_Removed_Values'] = data['Values'] - mean_values\n",
        "normalized_values = (data['Values'] - np.min(data['Values'])) / (np.max(data['Values']) - np.min(data['Values']))\n",
        "data['Normalized_Values'] = normalized_values\n",
        "scaler = ((data['Values'] - max(data['Values']))/max(data['Values']))\n",
        "print(\"\\nMean Removed Data:\")\n",
        "print(data[['Mean_Removed_Values']])\n",
        "print(\"\\nNormalized Data:\")\n",
        "print(data[['Normalized_Values']])\n",
        "print(\"\\nStandardized Data:\")\n",
        "print(scaler)\n"
      ]
    },
    {
      "cell_type": "code",
      "source": [
        "import pandas as pd\n",
        "f = pd.DataFrame({'Weather':['Sunny', 'Rainy', 'Sunny', 'Sunny'],\n",
        "                'Wind':['Mild', 'Mild', 'High', 'Mild'],\n",
        "                'Temp':['Moderate', 'Mild', 'Moderate', 'Mild'],\n",
        "                'go':['Yes', 'No', 'Yes', 'Yes']})\n",
        "print(f.columns)\n",
        "\n",
        "from sklearn.naive_bayes import GaussianNB as g\n",
        "from sklearn.preprocessing import LabelEncoder as le\n",
        "from sklearn.model_selection import train_test_split as tt\n",
        "\n",
        "l = le()\n",
        "for i in f.columns:\n",
        "    f[i] = l.fit_transform(f[i])\n",
        "    x = f.iloc[:, :3]\n",
        "    y = f.iloc[:, 3]\n",
        "\n",
        "xtr, xte, ytr, yte = tt(x, y, test_size=0.3)\n",
        "gg = g()\n",
        "gg.fit(xtr, ytr)\n",
        "y_pred = gg.predict(xte)\n",
        "\n",
        "from sklearn.metrics import accuracy_score\n",
        "print(accuracy_score(yte, y_pred))\n"
      ],
      "metadata": {
        "colab": {
          "base_uri": "https://localhost:8080/"
        },
        "id": "1mHchF7Ts9MU",
        "outputId": "83b46079-8ba5-4444-946f-4a43aaf858db"
      },
      "execution_count": 2,
      "outputs": [
        {
          "output_type": "stream",
          "name": "stdout",
          "text": [
            "Index(['Weather', 'Wind', 'Temp', 'go'], dtype='object')\n",
            "0.5\n"
          ]
        }
      ]
    },
    {
      "cell_type": "code",
      "source": [
        "import numpy as np\n",
        "import matplotlib.pyplot as plt\n",
        "import pandas as pd\n",
        "dataset = pd.read_csv(\"Social_Network _Ads.csv\")\n",
        "X = dataset.iloc[:, [2, 3]].values\n",
        "y = dataset.iloc[:, 4].values\n",
        "from sklearn.model_selection import train_test_split\n",
        "X_train, X_test, y_train, y_test = train_test_split(X, y, test_size = 0.25, random_state = 0)\n",
        "from sklearn.preprocessing import StandardScaler\n",
        "sc = StandardScaler()\n",
        "X_train = sc.fit_transform(X_train)\n",
        "X_test = sc.transform(X_test)\n",
        "from sklearn.svm import SVC\n",
        "classifier = SVC(kernel='rbf', random_state = 0)\n",
        "classifier.fit(X_train, y_train)\n",
        "y_pred = classifier.predict(X_test)\n",
        "from sklearn.metrics import confusion_matrix, accuracy_score\n",
        "cm = confusion_matrix(y_test, y_pred)\n",
        "print(cm)\n",
        "accuracy_score(y_test,y_pred)\n",
        "from matplotlib.colors import ListedColormap\n",
        "X_set, y_set = X_test, y_test\n",
        "X1, X2 = np.meshgrid(np.arange(start = X_set[:, 0].min() - 1, stop = X_set[:, 0].max() + 1, step = 0.01),np.arange(start = X_set[:, 1].min() - 1, stop = X_set[:, 1].max() + 1, step = 0.01))\n",
        "plt.contourf(X1, X2, classifier.predict(np.array([X1.ravel(), X2.ravel()]).T).reshape(X1.shape),alpha = 0.75, cmap = ListedColormap(('red', 'green')))\n",
        "plt.xlim(X1.min(), X1.max())\n",
        "plt.ylim(X2.min(), X2.max())\n",
        "for i, j in enumerate(np.unique(y_set)):\n",
        "    plt.scatter(X_set[y_set == j, 0], X_set[y_set == j, 1],c = ListedColormap(('pink', 'green'))(i), label = j)\n",
        "plt.title('SVM (Test set)')\n",
        "plt.xlabel('Age')\n",
        "plt.ylabel('Estimated Salary')\n",
        "plt.legend()\n",
        "plt.show()\n"
      ],
      "metadata": {
        "colab": {
          "base_uri": "https://localhost:8080/",
          "height": 561
        },
        "id": "DV_E4rIatv--",
        "outputId": "6c7ad64a-131b-4b16-bfb7-0380bc4c4898"
      },
      "execution_count": 3,
      "outputs": [
        {
          "output_type": "stream",
          "name": "stdout",
          "text": [
            "[[64  4]\n",
            " [ 3 29]]\n"
          ]
        },
        {
          "output_type": "stream",
          "name": "stderr",
          "text": [
            "<ipython-input-3-9e63923dba67>:28: UserWarning: *c* argument looks like a single numeric RGB or RGBA sequence, which should be avoided as value-mapping will have precedence in case its length matches with *x* & *y*.  Please use the *color* keyword-argument or provide a 2D array with a single row if you intend to specify the same RGB or RGBA value for all points.\n",
            "  plt.scatter(X_set[y_set == j, 0], X_set[y_set == j, 1],c = ListedColormap(('pink', 'green'))(i), label = j)\n"
          ]
        },
        {
          "output_type": "display_data",
          "data": {
            "text/plain": [
              "<Figure size 640x480 with 1 Axes>"
            ],
            "image/png": "[encoded data removed]"
          },
          "metadata": {}
        }
      ]
    },
    {
      "cell_type": "code",
      "source": [
        "import pandas as pd\n",
        "import numpy as np\n",
        "import matplotlib.pyplot as plt\n",
        "from sklearn.model_selection import train_test_split\n",
        "from sklearn.preprocessing import StandardScaler\n",
        "from sklearn.linear_model import LogisticRegression\n",
        "from sklearn.metrics import confusion_matrix\n",
        "from sklearn.metrics import accuracy_score\n",
        "from matplotlib.colors import ListedColormap\n",
        "\n",
        "dataset = pd.read_csv(\"diabetes.csv\")\n",
        "\n",
        "x = dataset.iloc[:, [4, 7]].values\n",
        "y = dataset.iloc[:, 8].values\n",
        "\n",
        "xtrain, xtest, ytrain, ytest = train_test_split(x, y, test_size = 0.25, random_state = 0)\n",
        "\n",
        "sc_x = StandardScaler()\n",
        "xtrain = sc_x.fit_transform(xtrain)\n",
        "xtest = sc_x.transform(xtest)\n",
        "\n",
        "print (xtrain[0:10, :])\n",
        "\n",
        "classifier = LogisticRegression(random_state = 0)\n",
        "classifier.fit(xtrain, ytrain)\n",
        "y_pred = classifier.predict(xtest)\n",
        "\n",
        "cm = confusion_matrix(ytest, y_pred)\n",
        "\n",
        "print (\"Confusion Matrix : \\n\", cm)\n",
        "\n",
        "print (\"Accuracy : \", accuracy_score(ytest, y_pred))\n",
        "\n",
        "X_set, y_set = xtest, ytest\n",
        "X1, X2 = np.meshgrid(np.arange(start = X_set[:, 0].min() - 1,\n",
        "          stop = X_set[:, 0].max() + 1, step = 0.01),\n",
        "          np.arange(start = X_set[:, 1].min() - 1,\n",
        "          stop = X_set[:, 1].max() + 1, step = 0.01))\n",
        "\n",
        "plt.contourf(X1, X2, classifier.predict(\n",
        "      np.array([X1.ravel(), X2.ravel()]).T).reshape(\n",
        "      X1.shape), alpha = 0.75, cmap = ListedColormap(('red', 'green')))\n",
        "\n",
        "plt.xlim(X1.min(), X1.max())\n",
        "plt.ylim(X2.min(), X2.max())\n",
        "\n",
        "for i, j in enumerate(np.unique(y_set)):\n",
        "  plt.scatter(X_set[y_set == j, 0], X_set[y_set == j, 1],\n",
        "        c = ListedColormap(('red', 'green'))(i), label = j)\n",
        "\n",
        "plt.title('Classifier (Test set)')\n",
        "plt.xlabel('Age')\n",
        "plt.ylabel('Diabetes')\n",
        "plt.legend()\n",
        "plt.show()\n"
      ],
      "metadata": {
        "colab": {
          "base_uri": "https://localhost:8080/",
          "height": 770
        },
        "id": "_Xw6j69at4Tz",
        "outputId": "88425b98-a162-44b1-fe6c-0faac40893ca"
      },
      "execution_count": 4,
      "outputs": [
        {
          "output_type": "stream",
          "name": "stdout",
          "text": [
            "[[ 0.28085796 -0.67204882]\n",
            " [ 1.35876151  0.40496103]\n",
            " [-0.81313372  0.20914106]\n",
            " [-0.43506306 -0.86786879]\n",
            " [-0.99010296 -0.47622884]\n",
            " [-0.57181202  0.40496103]\n",
            " [ 0.07171249  1.77570083]\n",
            " [-0.3546225  -0.57413883]\n",
            " [-0.99010296 -0.67204882]\n",
            " [-0.3546225  -0.28040887]]\n",
            "Confusion Matrix : \n",
            " [[62  3]\n",
            " [18 15]]\n",
            "Accuracy :  0.7857142857142857\n"
          ]
        },
        {
          "output_type": "stream",
          "name": "stderr",
          "text": [
            "<ipython-input-4-2fb9b095ac75>:48: UserWarning: *c* argument looks like a single numeric RGB or RGBA sequence, which should be avoided as value-mapping will have precedence in case its length matches with *x* & *y*.  Please use the *color* keyword-argument or provide a 2D array with a single row if you intend to specify the same RGB or RGBA value for all points.\n",
            "  plt.scatter(X_set[y_set == j, 0], X_set[y_set == j, 1],\n"
          ]
        },
        {
          "output_type": "display_data",
          "data": {
            "text/plain": [
              "<Figure size 640x480 with 1 Axes>"
            ],
            "image/png": "[encoded data removed]"
          },
          "metadata": {}
        }
      ]
    },
    {
      "cell_type": "code",
      "source": [
        "import pandas as pd\n",
        "import math\n",
        "import numpy as np\n",
        "\n",
        "data = pd.read_csv(\"3-dataset.csv\")\n",
        "features = [feat for feat in data]\n",
        "features.remove(\"answer\")\n",
        "\n",
        "class Node:\n",
        "    def __init__(self):\n",
        "        self.children = []\n",
        "        self.value = \"\"\n",
        "        self.isLeaf = False\n",
        "        self.pred = \"\"\n",
        "def entropy(examples):\n",
        "    pos = 0.0\n",
        "    neg = 0.0\n",
        "    for _, row in examples.iterrows():\n",
        "        if row[\"answer\"] == \"yes\":\n",
        "            pos += 1\n",
        "        else:\n",
        "            neg += 1\n",
        "    if pos == 0.0 or neg == 0.0:\n",
        "        return 0.0\n",
        "    else:\n",
        "        p = pos / (pos + neg)\n",
        "        n = neg / (pos + neg)\n",
        "        return -(p * math.log(p, 2) + n * math.log(n, 2))\n",
        "\n",
        "\n",
        "def info_gain(examples, attr):\n",
        "    uniq = np.unique(examples[attr])\n",
        "    gain = entropy(examples)\n",
        "    for u in uniq:\n",
        "        subdata = examples[examples[attr] == u]\n",
        "        sub_e = entropy(subdata)\n",
        "        gain -= (float(len(subdata)) / float(len(examples))) * sub_e\n",
        "    return gain\n",
        "\n",
        "def ID3(examples, attrs):\n",
        "    root = Node()\n",
        "\n",
        "    max_gain = 0\n",
        "    max_feat = \"\"\n",
        "    for feature in attrs:\n",
        "        gain = info_gain(examples, feature)\n",
        "        if gain > max_gain:\n",
        "            max_gain = gain\n",
        "            max_feat = feature\n",
        "    root.value = max_feat\n",
        "    uniq = np.unique(examples[max_feat])\n",
        "    for u in uniq:\n",
        "        subdata = examples[examples[max_feat] == u]\n",
        "        if entropy(subdata) == 0.0:\n",
        "            newNode = Node()\n",
        "            newNode.isLeaf = True\n",
        "            newNode.value = u\n",
        "            newNode.pred = np.unique(subdata[\"answer\"])\n",
        "            root.children.append(newNode)\n",
        "        else:\n",
        "            dummyNode = Node()\n",
        "            dummyNode.value = u\n",
        "            new_attrs = attrs.copy()\n",
        "            new_attrs.remove(max_feat)\n",
        "            child = ID3(subdata, new_attrs)\n",
        "            dummyNode.children.append(child)\n",
        "            root.children.append(dummyNode)\n",
        "\n",
        "    return root\n",
        "\n",
        "def printTree(root: Node, depth=0):\n",
        "    for i in range(depth):\n",
        "        print(\"\\t\", end=\"\")\n",
        "    print(root.value, end=\"\")\n",
        "    if root.isLeaf:\n",
        "        print(\" -> \", root.pred)\n",
        "    print()\n",
        "    for child in root.children:\n",
        "        printTree(child, depth + 1)\n",
        "\n",
        "def classify(root: Node, new):\n",
        "    for child in root.children:\n",
        "        if child.value == new[root.value]:\n",
        "            if child.isLeaf:\n",
        "                print (\"Predicted Label for new example\", new,\" is:\", child.pred)\n",
        "                exit\n",
        "            else:\n",
        "                classify (child.children[0], new)\n",
        "\n",
        "root = ID3(data, features)\n",
        "print(\"Decision Tree is:\")\n",
        "printTree(root)\n",
        "print (\"------------------\")\n",
        "\n",
        "new = {\"outlook\":\"sunny\", \"temperature\":\"hot\", \"humidity\":\"normal\", \"wind\":\"strong\"}\n",
        "classify (root, new)\n"
      ],
      "metadata": {
        "colab": {
          "base_uri": "https://localhost:8080/"
        },
        "id": "TwGiAvXcuDrk",
        "outputId": "6588c21b-2b83-40db-bd6d-02338500d7af"
      },
      "execution_count": 5,
      "outputs": [
        {
          "output_type": "stream",
          "name": "stdout",
          "text": [
            "Decision Tree is:\n",
            "outlook\n",
            "\tovercast ->  ['yes']\n",
            "\n",
            "\trainy\n",
            "\t\twindy\n",
            "\t\t\tFalse ->  ['yes']\n",
            "\n",
            "\t\t\tTrue ->  ['no']\n",
            "\n",
            "\tsunny\n",
            "\t\thumidity\n",
            "\t\t\thigh ->  ['no']\n",
            "\n",
            "\t\t\tnormal ->  ['yes']\n",
            "\n",
            "------------------\n",
            "Predicted Label for new example {'outlook': 'sunny', 'temperature': 'hot', 'humidity': 'normal', 'wind': 'strong'}  is: ['yes']\n"
          ]
        }
      ]
    },
    {
      "cell_type": "code",
      "source": [
        "import pandas as pd\n",
        "data=pd.read_csv(\"HeartDisease1.csv\")\n",
        "X =data.iloc[:,[1,2,3,4,5,6,7,8,9,10,11,12]].values\n",
        "y =data.iloc[:,13].values\n",
        "from sklearn.model_selection import train_test_split\n",
        "X_train, X_test, y_train, y_test = train_test_split(X, y, test_size=0.3, random_state=1)\n",
        "from sklearn.ensemble import RandomForestClassifier\n",
        "rfc=RandomForestClassifier()\n",
        "rfc.fit(X_train, y_train)\n",
        "y_pred=rfc.predict(X_test)\n",
        "from sklearn import metrics\n",
        "print(\"Classification Accuracy:\", metrics.accuracy_score(y_test, y_pred)*100)\n",
        "cm=metrics.confusion_matrix(y_test,y_pred)\n",
        "print(cm)\n",
        "import seaborn as sn\n",
        "from matplotlib import pyplot as plt\n",
        "plt.figure(figsize=(5,4))\n",
        "sn.heatmap(cm,annot=True)\n",
        "plt.xlabel('Predicted value')\n",
        "plt.ylabel('Actual value')\n",
        "plt.show()\n"
      ],
      "metadata": {
        "colab": {
          "base_uri": "https://localhost:8080/",
          "height": 440
        },
        "id": "Q2r40z5uvJwW",
        "outputId": "62e42db5-1655-4195-af44-6553ef418155"
      },
      "execution_count": 6,
      "outputs": [
        {
          "output_type": "stream",
          "name": "stdout",
          "text": [
            "Classification Accuracy: 85.18518518518519\n",
            "[[38  4]\n",
            " [ 8 31]]\n"
          ]
        },
        {
          "output_type": "display_data",
          "data": {
            "text/plain": [
              "<Figure size 500x400 with 2 Axes>"
            ],
            "image/png": "[encoded data removed]"
          },
          "metadata": {}
        }
      ]
    },
    {
      "cell_type": "code",
      "source": [
        "import pandas as pd\n",
        "import numpy as np\n",
        "import matplotlib.pyplot as plt\n",
        "import seaborn as sns\n",
        "from sklearn.cluster import KMeans\n",
        "from sklearn.metrics import silhouette_score\n",
        "from sklearn.preprocessing import MinMaxScaler\n",
        "iris = pd.read_csv(\"Iris.csv\")\n",
        "x = iris.iloc[:, [ 1,2,3,4]].values\n",
        "\n",
        "from sklearn.cluster import KMeans\n",
        "wcss = []\n",
        "\n",
        "for i in range(1, 11):\n",
        "    kmeans = KMeans(n_clusters = i, init = 'k-means++', max_iter = 300, n_init = 10, random_state = 0)\n",
        "    kmeans.fit(x)\n",
        "    wcss.append(kmeans.inertia_)\n",
        "\n",
        "\n",
        "kmeans = KMeans(n_clusters = 3, init = 'k-means++', max_iter = 300, n_init = 10, random_state = 0)\n",
        "y_kmeans = kmeans.fit_predict(x)\n",
        "plt.scatter(x[y_kmeans == 0, 0], x[y_kmeans == 0, 1], s = 100, c = 'blue', label = 'Iris-setosa')\n",
        "plt.scatter(x[y_kmeans == 1, 0], x[y_kmeans == 1, 1], s = 100, c = 'orange', label = 'Iris-versicolour')\n",
        "plt.scatter(x[y_kmeans == 2, 0], x[y_kmeans == 2, 1], s = 100, c = 'green', label = 'Iris-virginica')\n",
        "plt.scatter(kmeans.cluster_centers_[:, 0], kmeans.cluster_centers_[:,1], s = 100, c = 'red', label = 'Centroids')\n",
        "\n",
        "plt.legend()\n",
        "\n",
        "plt.show()\n"
      ],
      "metadata": {
        "colab": {
          "base_uri": "https://localhost:8080/",
          "height": 433
        },
        "id": "AZl46MwivTbc",
        "outputId": "057a3cab-4a41-4904-8c27-81c92718c881"
      },
      "execution_count": 7,
      "outputs": [
        {
          "output_type": "display_data",
          "data": {
            "text/plain": [
              "<Figure size 640x480 with 1 Axes>"
            ],
            "image/png": "[encoded data removed]"
          },
          "metadata": {}
        }
      ]
    },
    {
      "cell_type": "code",
      "source": [
        "import nltk\n",
        "from nltk.tokenize import word_tokenize\n",
        "from nltk.stem import PorterStemmer, WordNetLemmatizer\n",
        "from nltk.corpus import stopwords\n",
        "\n",
        "# Download NLTK resources if not already installed\n",
        "nltk.download('punkt')\n",
        "nltk.download('stopwords')\n",
        "nltk.download('wordnet')\n",
        "\n",
        "# Sample text\n",
        "text = \"The quick brown foxes are jumping over the lazy dogs. The dogs are not amused.\"\n",
        "\n",
        "# Tokenization\n",
        "tokens = word_tokenize(text)\n",
        "\n",
        "# Remove stop words\n",
        "stop_words = set(stopwords.words('english'))\n",
        "filtered_tokens = [word for word in tokens if word.lower() not in stop_words]\n",
        "\n",
        "# Stemming\n",
        "stemmer = PorterStemmer()\n",
        "stemmed_tokens = [stemmer.stem(word) for word in filtered_tokens]\n",
        "\n",
        "# Lemmatization\n",
        "lemmatizer = WordNetLemmatizer()\n",
        "lemmatized_tokens = [lemmatizer.lemmatize(word) for word in filtered_tokens]\n",
        "\n",
        "# Display the results\n",
        "print(\"Original Text:\", text)\n",
        "print(\"\\nTokenization:\", tokens)\n",
        "print(\"\\nFiltered Tokens (without stop words):\", filtered_tokens)\n",
        "print(\"\\nStemmed Tokens:\", stemmed_tokens)\n",
        "print(\"\\nLemmatized Tokens:\", lemmatized_tokens)\n"
      ],
      "metadata": {
        "colab": {
          "base_uri": "https://localhost:8080/"
        },
        "id": "IwrT9SvlvdxM",
        "outputId": "1f124c29-6c65-44f0-dc0e-126abb0de0fd"
      },
      "execution_count": 8,
      "outputs": [
        {
          "output_type": "stream",
          "name": "stderr",
          "text": [
            "[nltk_data] Downloading package punkt to /root/nltk_data...\n",
            "[nltk_data]   Unzipping tokenizers/punkt.zip.\n",
            "[nltk_data] Downloading package stopwords to /root/nltk_data...\n",
            "[nltk_data]   Unzipping corpora/stopwords.zip.\n",
            "[nltk_data] Downloading package wordnet to /root/nltk_data...\n"
          ]
        },
        {
          "output_type": "stream",
          "name": "stdout",
          "text": [
            "Original Text: The quick brown foxes are jumping over the lazy dogs. The dogs are not amused.\n",
            "\n",
            "Tokenization: ['The', 'quick', 'brown', 'foxes', 'are', 'jumping', 'over', 'the', 'lazy', 'dogs', '.', 'The', 'dogs', 'are', 'not', 'amused', '.']\n",
            "\n",
            "Filtered Tokens (without stop words): ['quick', 'brown', 'foxes', 'jumping', 'lazy', 'dogs', '.', 'dogs', 'amused', '.']\n",
            "\n",
            "Stemmed Tokens: ['quick', 'brown', 'fox', 'jump', 'lazi', 'dog', '.', 'dog', 'amus', '.']\n",
            "\n",
            "Lemmatized Tokens: ['quick', 'brown', 'fox', 'jumping', 'lazy', 'dog', '.', 'dog', 'amused', '.']\n"
          ]
        }
      ]
    },
    {
      "cell_type": "code",
      "source": [
        "import nltk\n",
        "from nltk.corpus import stopwords\n",
        "from nltk.tokenize import word_tokenize\n",
        "from nltk.probability import FreqDist\n",
        "\n",
        "nltk.download('punkt')\n",
        "nltk.download('stopwords')\n",
        "\n",
        "def preprocess_text(text):\n",
        "    stop_words = set(stopwords.words('english'))\n",
        "    word_tokens = word_tokenize(text)\n",
        "    filtered_words = [word.lower() for word in word_tokens if word.isalpha() and word.lower() not in stop_words]\n",
        "    return filtered_words\n",
        "\n",
        "def create_bow_model(texts):\n",
        "    all_words = []\n",
        "    for text in texts:\n",
        "        words = preprocess_text(text)\n",
        "        all_words.extend(words)\n",
        "\n",
        "    word_freq = FreqDist(all_words)\n",
        "    bow_model = {word: freq for word, freq in word_freq.items()}\n",
        "    return bow_model\n",
        "\n",
        "# Example usage\n",
        "texts = [\n",
        "    \"The cat sat on the mat, and the mat was comfortable.\",\n",
        "    \"She sang a sweet song, a song that touched everyone's heart.\",\n",
        "    \"Coding coding can be challenging, but coding is also incredibly rewarding.\",\n",
        "]\n",
        "\n",
        "bow_model = create_bow_model(texts)\n",
        "\n",
        "# Print the Bag of Words model\n",
        "print(\"Bag of Words Model:\")\n",
        "for word, freq in bow_model.items():\n",
        "    print(f\"{word}: {freq}\")\n"
      ],
      "metadata": {
        "colab": {
          "base_uri": "https://localhost:8080/"
        },
        "id": "RWllH7qMvodI",
        "outputId": "9bee3d86-faf2-45a7-bad1-ae3369068bde"
      },
      "execution_count": 9,
      "outputs": [
        {
          "output_type": "stream",
          "name": "stdout",
          "text": [
            "Bag of Words Model:\n",
            "cat: 1\n",
            "sat: 1\n",
            "mat: 2\n",
            "comfortable: 1\n",
            "sang: 1\n",
            "sweet: 1\n",
            "song: 2\n",
            "touched: 1\n",
            "everyone: 1\n",
            "heart: 1\n",
            "coding: 3\n",
            "challenging: 1\n",
            "also: 1\n",
            "incredibly: 1\n",
            "rewarding: 1\n"
          ]
        },
        {
          "output_type": "stream",
          "name": "stderr",
          "text": [
            "[nltk_data] Downloading package punkt to /root/nltk_data...\n",
            "[nltk_data]   Package punkt is already up-to-date!\n",
            "[nltk_data] Downloading package stopwords to /root/nltk_data...\n",
            "[nltk_data]   Package stopwords is already up-to-date!\n"
          ]
        }
      ]
    },
    {
      "cell_type": "code",
      "source": [
        "import csv\n",
        "import re\n",
        "\n",
        "def identify_patterns(csv_file_path, column_name):\n",
        "    patterns = {}\n",
        "\n",
        "    with open(csv_file_path, 'r') as csvfile:\n",
        "        reader = csv.DictReader(csvfile)\n",
        "\n",
        "        for row in reader:\n",
        "            text = row[column_name]\n",
        "\n",
        "            # Example pattern: finding words that start with 'pattern'\n",
        "            pattern_matches = re.findall(r'Female', text, flags=re.IGNORECASE)\n",
        "\n",
        "            # Update patterns dictionary with matches\n",
        "            for match in pattern_matches:\n",
        "                if match in patterns:\n",
        "                    patterns[match] += 1\n",
        "                else:\n",
        "                    patterns[match] = 1\n",
        "\n",
        "    return patterns\n",
        "csv_file_path = 'Social_Network _Ads.csv'  # Update with your CSV file path\n",
        "column_name = 'Gender'     # Update with the actual column name in your CSV file\n",
        "\n",
        "result = identify_patterns(csv_file_path, column_name)\n",
        "\n",
        "# Display the identified patterns and their counts\n",
        "for pattern, count in result.items():\n",
        "    print(f\"Pattern: {pattern}, Count: {count}\")\n"
      ],
      "metadata": {
        "colab": {
          "base_uri": "https://localhost:8080/"
        },
        "id": "nv6f3Nuvvu7l",
        "outputId": "d5edb24e-46e2-45b3-8e9e-7a636e864632"
      },
      "execution_count": 10,
      "outputs": [
        {
          "output_type": "stream",
          "name": "stdout",
          "text": [
            "Pattern: Female, Count: 204\n"
          ]
        }
      ]
    },
    {
      "cell_type": "code",
      "source": [
        "!pip install hmmlearn"
      ],
      "metadata": {
        "colab": {
          "base_uri": "https://localhost:8080/"
        },
        "id": "6kYedFI2wzhf",
        "outputId": "66a8ac31-e421-4f48-eded-7ea80bf54181"
      },
      "execution_count": 12,
      "outputs": [
        {
          "output_type": "stream",
          "name": "stdout",
          "text": [
            "Collecting hmmlearn\n",
            "  Downloading hmmlearn-0.3.2-cp310-cp310-manylinux_2_17_x86_64.manylinux2014_x86_64.whl (161 kB)\n",
            "\u001b[?25l     \u001b[90m━━━━━━━━━━━━━━━━━━━━━━━━━━━━━━━━━━━━━━━━\u001b[0m \u001b[32m0.0/161.1 kB\u001b[0m \u001b[31m?\u001b[0m eta \u001b[36m-:--:--\u001b[0m\r\u001b[2K     \u001b[91m━━━━━━━━━━━━━━━━━━━━\u001b[0m\u001b[90m╺\u001b[0m\u001b[90m━━━━━━━━━━━━━━━━━━━\u001b[0m \u001b[32m81.9/161.1 kB\u001b[0m \u001b[31m2.2 MB/s\u001b[0m eta \u001b[36m0:00:01\u001b[0m\r\u001b[2K     \u001b[90m━━━━━━━━━━━━━━━━━━━━━━━━━━━━━━━━━━━━━━━━\u001b[0m \u001b[32m161.1/161.1 kB\u001b[0m \u001b[31m2.9 MB/s\u001b[0m eta \u001b[36m0:00:00\u001b[0m\n",
            "\u001b[?25hRequirement already satisfied: numpy>=1.10 in /usr/local/lib/python3.10/dist-packages (from hmmlearn) (1.25.2)\n",
            "Requirement already satisfied: scikit-learn!=0.22.0,>=0.16 in /usr/local/lib/python3.10/dist-packages (from hmmlearn) (1.2.2)\n",
            "Requirement already satisfied: scipy>=0.19 in /usr/local/lib/python3.10/dist-packages (from hmmlearn) (1.11.4)\n",
            "Requirement already satisfied: joblib>=1.1.1 in /usr/local/lib/python3.10/dist-packages (from scikit-learn!=0.22.0,>=0.16->hmmlearn) (1.4.0)\n",
            "Requirement already satisfied: threadpoolctl>=2.0.0 in /usr/local/lib/python3.10/dist-packages (from scikit-learn!=0.22.0,>=0.16->hmmlearn) (3.4.0)\n",
            "Installing collected packages: hmmlearn\n",
            "Successfully installed hmmlearn-0.3.2\n"
          ]
        }
      ]
    },
    {
      "cell_type": "code",
      "source": [
        "import numpy as np\n",
        "from hmmlearn import hmm\n",
        "\n",
        "# Step 1: Define Model Parameters\n",
        "n_states = 2  # Number of hidden states (Rainy and Sunny)\n",
        "\n",
        "# Transition matrix (A): Probability of transitioning from one state to another\n",
        "trans_matrix = np.array([[0.7, 0.3], [0.4, 0.6]])\n",
        "\n",
        "# Emission matrix (B): Probability of observing an emission given the current state\n",
        "emission_matrix = np.array([[0.1, 0.4, 0.5], [0.6, 0.3, 0.1]])\n",
        "\n",
        "# Initial state probabilities (π): Probability distribution of starting in each state\n",
        "initial_probs = np.array([0.6, 0.4])\n",
        "\n",
        "# Step 2: Create HMM Model\n",
        "model = hmm.MultinomialHMM(n_components=n_states,\n",
        "                           startprob_prior=initial_probs,\n",
        "                           transmat_prior=trans_matrix,\n",
        "                           n_iter=100)\n",
        "\n",
        "# Step 3: Generate Training Data (for simplicity, you can use a pre-existing dataset)\n",
        "# Observations: 0 - Umbrella, 1 - Jacket, 2 - T-shirt\n",
        "train_data = np.array([[0, 1, 2, 0, 1, 2, 0, 2, 1]])\n",
        "\n",
        "# Reshape the array if needed\n",
        "train_data = train_data.reshape(-1, 1)\n",
        "\n",
        "# Step 4: Fit the Model\n",
        "model.fit(train_data)\n",
        "\n",
        "# Step 5: Predict States for a New Sequence\n",
        "new_data = np.array([[0, 2, 1]])  # Umbrella, T-shirt, Jacket\n",
        "new_data = new_data.reshape(-1, 1)\n",
        "predicted_states = model.predict(new_data)\n",
        "\n",
        "# Map numerical predictions to weather states\n",
        "weather_states = ['Rainy', 'Sunny']\n",
        "predicted_states_text = [weather_states[state] for state in predicted_states]\n",
        "\n",
        "# Display Results\n",
        "print(\"Predicted Weather States:\", predicted_states_text)\n",
        "\n"
      ],
      "metadata": {
        "colab": {
          "base_uri": "https://localhost:8080/"
        },
        "id": "afEnrBa6xi8N",
        "outputId": "0f393d24-0a63-4b4c-e38e-a8c184068cd5"
      },
      "execution_count": 15,
      "outputs": [
        {
          "output_type": "stream",
          "name": "stderr",
          "text": [
            "WARNING:hmmlearn.hmm:MultinomialHMM has undergone major changes. The previous version was implementing a CategoricalHMM (a special case of MultinomialHMM). This new implementation follows the standard definition for a Multinomial distribution (e.g. as in https://en.wikipedia.org/wiki/Multinomial_distribution). See these issues for details:\n",
            "https://github.com/hmmlearn/hmmlearn/issues/335\n",
            "https://github.com/hmmlearn/hmmlearn/issues/340\n"
          ]
        },
        {
          "output_type": "stream",
          "name": "stdout",
          "text": [
            "Predicted Weather States: ['Sunny', 'Rainy', 'Rainy']\n"
          ]
        }
      ]
    },
    {
      "cell_type": "code",
      "source": [
        "def print_board(board):\n",
        "    for row in board:\n",
        "        print(\" | \".join(row))\n",
        "        print(\"-\" * 5)\n",
        "\n",
        "def check_winner(board, player):\n",
        "    # Check rows, columns, and diagonals\n",
        "    for i in range(3):\n",
        "        if all(board[i][j] == player for j in range(3)) or all(board[j][i] == player for j in range(3)):\n",
        "            return True\n",
        "    if all(board[i][i] == player for i in range(3)) or all(board[i][2 - i] == player for i in range(3)):\n",
        "        return True\n",
        "    return False\n",
        "\n",
        "def is_board_full(board):\n",
        "    return all(board[i][j] != \" \" for i in range(3) for j in range(3))\n",
        "\n",
        "def tic_tac_toe():\n",
        "    board = [[\" \" for _ in range(3)] for _ in range(3)]\n",
        "    players = [\"X\", \"O\"]\n",
        "    current_player = players[0]\n",
        "\n",
        "    while True:\n",
        "        print_board(board)\n",
        "\n",
        "        # Get player move\n",
        "        while True:\n",
        "            row = int(input(\"Enter row (0, 1, or 2): \"))\n",
        "            col = int(input(\"Enter column (0, 1, or 2): \"))\n",
        "            if 0 <= row < 3 and 0 <= col < 3 and board[row][col] == \" \":\n",
        "                break\n",
        "            else:\n",
        "                print(\"Invalid move. Try again.\")\n",
        "\n",
        "        # Make the move\n",
        "        board[row][col] = current_player\n",
        "\n",
        "        # Check for a winner\n",
        "        if check_winner(board, current_player):\n",
        "            print_board(board)\n",
        "            print(f\"Player {current_player} wins!\")\n",
        "            break\n",
        "\n",
        "        # Check for a tie\n",
        "        if is_board_full(board):\n",
        "            print_board(board)\n",
        "            print(\"It's a tie!\")\n",
        "            break\n",
        "\n",
        "        # Switch to the other player\n",
        "        current_player = players[1] if current_player == players[0] else players[0]\n",
        "\n",
        "if __name__ == \"__main__\":\n",
        "    tic_tac_toe()\n"
      ],
      "metadata": {
        "colab": {
          "base_uri": "https://localhost:8080/"
        },
        "id": "f7EMjq8cxoEA",
        "outputId": "510e9954-d793-427a-fd5e-91452be0f9a3"
      },
      "execution_count": 16,
      "outputs": [
        {
          "output_type": "stream",
          "name": "stdout",
          "text": [
            "  |   |  \n",
            "-----\n",
            "  |   |  \n",
            "-----\n",
            "  |   |  \n",
            "-----\n",
            "Enter row (0, 1, or 2): 1\n",
            "Enter column (0, 1, or 2): 1\n",
            "  |   |  \n",
            "-----\n",
            "  | X |  \n",
            "-----\n",
            "  |   |  \n",
            "-----\n",
            "Enter row (0, 1, or 2): 2\n",
            "Enter column (0, 1, or 2): 1\n",
            "  |   |  \n",
            "-----\n",
            "  | X |  \n",
            "-----\n",
            "  | O |  \n",
            "-----\n",
            "Enter row (0, 1, or 2): 0\n",
            "Enter column (0, 1, or 2): 1\n",
            "  | X |  \n",
            "-----\n",
            "  | X |  \n",
            "-----\n",
            "  | O |  \n",
            "-----\n",
            "Enter row (0, 1, or 2): 0\n",
            "Enter column (0, 1, or 2): 3\n",
            "Invalid move. Try again.\n",
            "Enter row (0, 1, or 2): 0\n",
            "Enter column (0, 1, or 2): 2\n",
            "  | X | O\n",
            "-----\n",
            "  | X |  \n",
            "-----\n",
            "  | O |  \n",
            "-----\n",
            "Enter row (0, 1, or 2): 0\n",
            "Enter column (0, 1, or 2): 0\n",
            "X | X | O\n",
            "-----\n",
            "  | X |  \n",
            "-----\n",
            "  | O |  \n",
            "-----\n",
            "Enter row (0, 1, or 2): 2\n",
            "Enter column (0, 1, or 2): 0\n",
            "X | X | O\n",
            "-----\n",
            "  | X |  \n",
            "-----\n",
            "O | O |  \n",
            "-----\n",
            "Enter row (0, 1, or 2): 2\n",
            "Enter column (0, 1, or 2): 2\n",
            "X | X | O\n",
            "-----\n",
            "  | X |  \n",
            "-----\n",
            "O | O | X\n",
            "-----\n",
            "Player X wins!\n"
          ]
        }
      ]
    },
    {
      "cell_type": "code",
      "source": [
        "import numpy as np\n",
        "import tensorflow as tf\n",
        "from tensorflow.keras import layers, models\n",
        "from sklearn.datasets import load_iris\n",
        "from sklearn.model_selection import train_test_split\n",
        "from sklearn.preprocessing import StandardScaler\n",
        "from sklearn.metrics import accuracy_score\n",
        "\n",
        "# Load and preprocess the Iris dataset\n",
        "X, y = load_iris(return_X_y=True)\n",
        "X_train, X_test, y_train, y_test = train_test_split(X, y, test_size=0.2, random_state=42)\n",
        "X_train, X_test = StandardScaler().fit_transform(X_train), StandardScaler().fit_transform(X_test)\n",
        "\n",
        "# Define and compile a single-layer neural network\n",
        "model_single_layer = models.Sequential([layers.Dense(64, 'relu', input_shape=(4,)), layers.Dense(3, 'softmax')])\n",
        "model_single_layer.compile(optimizer='adam', loss='sparse_categorical_crossentropy', metrics=['accuracy'])\n",
        "model_single_layer.fit(X_train, y_train, epochs=15, validation_data=(X_test, y_test))\n",
        "\n",
        "# Evaluate the single-layer model\n",
        "single_layer_accuracy = accuracy_score(y_test, np.argmax(model_single_layer.predict(X_test), axis=1))\n",
        "print(f\"\\nSingle-layer Neural Network - Accuracy: {single_layer_accuracy}\")\n",
        "\n",
        "# Define and compile a multi-layer neural network\n",
        "model_multi_layer = models.Sequential([layers.Dense(64, 'relu', input_shape=(4,)), layers.Dense(32, 'relu'), layers.Dense(3, 'softmax')])\n",
        "model_multi_layer.compile(optimizer='adam', loss='sparse_categorical_crossentropy', metrics=['accuracy'])\n",
        "model_multi_layer.fit(X_train, y_train, epochs=15, validation_data=(X_test, y_test))\n",
        "\n",
        "# Evaluate the multi-layer model\n",
        "multi_layer_accuracy = accuracy_score(y_test, np.argmax(model_multi_layer.predict(X_test), axis=1))\n",
        "print(f\"\\nMulti-layer Neural Network - Accuracy: {multi_layer_accuracy}\")\n",
        "\n"
      ],
      "metadata": {
        "colab": {
          "base_uri": "https://localhost:8080/"
        },
        "id": "BgDQXR8syUGl",
        "outputId": "64e197b1-f206-45c0-e311-2b7057b4f0c7"
      },
      "execution_count": 17,
      "outputs": [
        {
          "output_type": "stream",
          "name": "stdout",
          "text": [
            "Epoch 1/15\n",
            "4/4 [==============================] - 2s 185ms/step - loss: 1.1781 - accuracy: 0.3583 - val_loss: 1.1642 - val_accuracy: 0.3000\n",
            "Epoch 2/15\n",
            "4/4 [==============================] - 0s 23ms/step - loss: 1.0990 - accuracy: 0.3917 - val_loss: 1.0834 - val_accuracy: 0.3333\n",
            "Epoch 3/15\n",
            "4/4 [==============================] - 0s 25ms/step - loss: 1.0244 - accuracy: 0.4000 - val_loss: 1.0073 - val_accuracy: 0.3333\n",
            "Epoch 4/15\n",
            "4/4 [==============================] - 0s 31ms/step - loss: 0.9586 - accuracy: 0.5083 - val_loss: 0.9356 - val_accuracy: 0.4667\n",
            "Epoch 5/15\n",
            "4/4 [==============================] - 0s 27ms/step - loss: 0.8979 - accuracy: 0.5500 - val_loss: 0.8694 - val_accuracy: 0.6000\n",
            "Epoch 6/15\n",
            "4/4 [==============================] - 0s 43ms/step - loss: 0.8382 - accuracy: 0.6833 - val_loss: 0.8097 - val_accuracy: 0.7667\n",
            "Epoch 7/15\n",
            "4/4 [==============================] - 0s 38ms/step - loss: 0.7860 - accuracy: 0.7500 - val_loss: 0.7556 - val_accuracy: 0.8333\n",
            "Epoch 8/15\n",
            "4/4 [==============================] - 0s 39ms/step - loss: 0.7395 - accuracy: 0.7750 - val_loss: 0.7069 - val_accuracy: 0.8333\n",
            "Epoch 9/15\n",
            "4/4 [==============================] - 0s 27ms/step - loss: 0.7007 - accuracy: 0.7833 - val_loss: 0.6631 - val_accuracy: 0.8333\n",
            "Epoch 10/15\n",
            "4/4 [==============================] - 0s 31ms/step - loss: 0.6627 - accuracy: 0.7833 - val_loss: 0.6246 - val_accuracy: 0.8333\n",
            "Epoch 11/15\n",
            "4/4 [==============================] - 0s 28ms/step - loss: 0.6308 - accuracy: 0.7750 - val_loss: 0.5905 - val_accuracy: 0.8667\n",
            "Epoch 12/15\n",
            "4/4 [==============================] - 0s 31ms/step - loss: 0.6024 - accuracy: 0.7750 - val_loss: 0.5598 - val_accuracy: 0.8667\n",
            "Epoch 13/15\n",
            "4/4 [==============================] - 0s 26ms/step - loss: 0.5773 - accuracy: 0.7833 - val_loss: 0.5322 - val_accuracy: 0.8667\n",
            "Epoch 14/15\n",
            "4/4 [==============================] - 0s 31ms/step - loss: 0.5547 - accuracy: 0.7833 - val_loss: 0.5079 - val_accuracy: 0.8667\n",
            "Epoch 15/15\n",
            "4/4 [==============================] - 0s 25ms/step - loss: 0.5344 - accuracy: 0.7833 - val_loss: 0.4863 - val_accuracy: 0.8667\n",
            "1/1 [==============================] - 0s 198ms/step\n",
            "\n",
            "Single-layer Neural Network - Accuracy: 0.8666666666666667\n",
            "Epoch 1/15\n",
            "4/4 [==============================] - 1s 70ms/step - loss: 0.9743 - accuracy: 0.5667 - val_loss: 0.8897 - val_accuracy: 0.7000\n",
            "Epoch 2/15\n",
            "4/4 [==============================] - 0s 12ms/step - loss: 0.8824 - accuracy: 0.6250 - val_loss: 0.8081 - val_accuracy: 0.7000\n",
            "Epoch 3/15\n",
            "4/4 [==============================] - 0s 12ms/step - loss: 0.8068 - accuracy: 0.6583 - val_loss: 0.7385 - val_accuracy: 0.7000\n",
            "Epoch 4/15\n",
            "4/4 [==============================] - 0s 13ms/step - loss: 0.7429 - accuracy: 0.6583 - val_loss: 0.6801 - val_accuracy: 0.7000\n",
            "Epoch 5/15\n",
            "4/4 [==============================] - 0s 12ms/step - loss: 0.6895 - accuracy: 0.6583 - val_loss: 0.6299 - val_accuracy: 0.7000\n",
            "Epoch 6/15\n",
            "4/4 [==============================] - 0s 12ms/step - loss: 0.6441 - accuracy: 0.6583 - val_loss: 0.5873 - val_accuracy: 0.7000\n",
            "Epoch 7/15\n",
            "4/4 [==============================] - 0s 18ms/step - loss: 0.6053 - accuracy: 0.6750 - val_loss: 0.5506 - val_accuracy: 0.7667\n",
            "Epoch 8/15\n",
            "4/4 [==============================] - 0s 19ms/step - loss: 0.5715 - accuracy: 0.7000 - val_loss: 0.5183 - val_accuracy: 0.7667\n",
            "Epoch 9/15\n",
            "4/4 [==============================] - 0s 14ms/step - loss: 0.5419 - accuracy: 0.7083 - val_loss: 0.4895 - val_accuracy: 0.8000\n",
            "Epoch 10/15\n",
            "4/4 [==============================] - 0s 17ms/step - loss: 0.5148 - accuracy: 0.7333 - val_loss: 0.4643 - val_accuracy: 0.8000\n",
            "Epoch 11/15\n",
            "4/4 [==============================] - 0s 19ms/step - loss: 0.4915 - accuracy: 0.7417 - val_loss: 0.4414 - val_accuracy: 0.8333\n",
            "Epoch 12/15\n",
            "4/4 [==============================] - 0s 12ms/step - loss: 0.4694 - accuracy: 0.7833 - val_loss: 0.4196 - val_accuracy: 0.8333\n",
            "Epoch 13/15\n",
            "4/4 [==============================] - 0s 18ms/step - loss: 0.4485 - accuracy: 0.8250 - val_loss: 0.3990 - val_accuracy: 0.8333\n",
            "Epoch 14/15\n",
            "4/4 [==============================] - 0s 13ms/step - loss: 0.4303 - accuracy: 0.8167 - val_loss: 0.3790 - val_accuracy: 0.8667\n",
            "Epoch 15/15\n",
            "4/4 [==============================] - 0s 12ms/step - loss: 0.4100 - accuracy: 0.8167 - val_loss: 0.3597 - val_accuracy: 0.8667\n",
            "1/1 [==============================] - 0s 60ms/step\n",
            "\n",
            "Multi-layer Neural Network - Accuracy: 0.8666666666666667\n"
          ]
        }
      ]
    },
    {
      "cell_type": "code",
      "source": [
        "import tensorflow as tf\n",
        "import numpy as np\n",
        "import matplotlib.pyplot as plt\n",
        "\n",
        "# Generate some random data for demonstration\n",
        "np.random.seed(0)\n",
        "X_train = np.random.rand(100, 1)\n",
        "y_train = 2 * X_train + 1 + 0.1 * np.random.randn(100, 1)\n",
        "\n",
        "# Build the model\n",
        "model = tf.keras.Sequential([\n",
        "    tf.keras.layers.Dense(units=1, input_shape=(1,))\n",
        "])\n",
        "\n",
        "# Compile the model\n",
        "model.compile(optimizer='sgd', loss='mean_squared_error')\n",
        "\n",
        "# Train the model\n",
        "history = model.fit(X_train, y_train, epochs=100, verbose=0)\n",
        "\n",
        "# Plot the training loss over epochs\n",
        "plt.plot(history.history['loss'])\n",
        "plt.xlabel('Epochs')\n",
        "plt.ylabel('Mean Squared Error Loss')\n",
        "plt.title('Training Loss')\n",
        "plt.show()\n",
        "\n",
        "# Make predictions on new data\n",
        "X_test = np.array([[0.2], [0.5], [0.8]])\n",
        "predictions = model.predict(X_test)\n",
        "\n",
        "# Print the predictions\n",
        "for i in range(len(X_test)):\n",
        "    print(f\"Input: {X_test[i][0]}, Predicted Output: {predictions[i][0]}\")\n"
      ],
      "metadata": {
        "colab": {
          "base_uri": "https://localhost:8080/",
          "height": 541
        },
        "id": "3InW5dTQygze",
        "outputId": "0ff4c5cf-5a00-4743-a5cd-63d58a480924"
      },
      "execution_count": 18,
      "outputs": [
        {
          "output_type": "display_data",
          "data": {
            "text/plain": [
              "<Figure size 640x480 with 1 Axes>"
            ],
            "image/png": "[encoded data removed]"
          },
          "metadata": {}
        },
        {
          "output_type": "stream",
          "name": "stdout",
          "text": [
            "1/1 [==============================] - 0s 306ms/step\n",
            "Input: 0.2, Predicted Output: 1.7582423686981201\n",
            "Input: 0.5, Predicted Output: 2.0283913612365723\n",
            "Input: 0.8, Predicted Output: 2.2985405921936035\n"
          ]
        }
      ]
    },
    {
      "cell_type": "code",
      "source": [
        "import tensorflow as tf\n",
        "from tensorflow.keras.models import Sequential\n",
        "from tensorflow.keras.layers import Conv2D, Dense, Flatten, MaxPooling2D\n",
        "# Load and preprocess the MNIST dataset\n",
        "mnist = tf.keras.datasets.mnist\n",
        "(X_train, y_train), (X_test, y_test) = mnist.load_data()\n",
        "X_train, X_test = X_train / 255.0, X_test / 255.0  # Normalize pixel values\n",
        "# Define the CNN model\n",
        "model = Sequential([\n",
        "    Conv2D(32, kernel_size=(3, 3), activation='relu', input_shape=(28, 28, 1)),\n",
        "    MaxPooling2D(pool_size=(2, 2)),\n",
        "    Conv2D(64, (3, 3), activation='relu'),\n",
        "    MaxPooling2D(pool_size=(2, 2)),\n",
        "    Flatten(),\n",
        "    Dense(64, activation='relu'),\n",
        "    Dense(10, activation='softmax')\n",
        "])\n",
        "# Compile the model\n",
        "model.compile(optimizer='adam',\n",
        "              loss='sparse_categorical_crossentropy',\n",
        "              metrics=['accuracy'])\n",
        "# Train the model\n",
        "model.fit(X_train, y_train, epochs=5, validation_split=0.1)\n",
        "\n",
        "# Evaluate the model\n",
        "test_loss, test_acc = model.evaluate(X_test, y_test)\n",
        "print(f'\\nTest accuracy: {test_acc}')\n",
        "\n"
      ],
      "metadata": {
        "colab": {
          "base_uri": "https://localhost:8080/"
        },
        "id": "OLR14kiXy3dC",
        "outputId": "adc4a92a-07c7-4568-8627-52e9256572bc"
      },
      "execution_count": 19,
      "outputs": [
        {
          "output_type": "stream",
          "name": "stdout",
          "text": [
            "Downloading data from https://storage.googleapis.com/tensorflow/tf-keras-datasets/mnist.npz\n",
            "11490434/11490434 [==============================] - 1s 0us/step\n",
            "Epoch 1/5\n",
            "1688/1688 [==============================] - 52s 30ms/step - loss: 0.1494 - accuracy: 0.9544 - val_loss: 0.0568 - val_accuracy: 0.9837\n",
            "Epoch 2/5\n",
            "1688/1688 [==============================] - 54s 32ms/step - loss: 0.0475 - accuracy: 0.9851 - val_loss: 0.0489 - val_accuracy: 0.9855\n",
            "Epoch 3/5\n",
            "1688/1688 [==============================] - 49s 29ms/step - loss: 0.0319 - accuracy: 0.9901 - val_loss: 0.0406 - val_accuracy: 0.9893\n",
            "Epoch 4/5\n",
            "1688/1688 [==============================] - 49s 29ms/step - loss: 0.0242 - accuracy: 0.9924 - val_loss: 0.0407 - val_accuracy: 0.9885\n",
            "Epoch 5/5\n",
            "1688/1688 [==============================] - 48s 29ms/step - loss: 0.0179 - accuracy: 0.9940 - val_loss: 0.0408 - val_accuracy: 0.9895\n",
            "313/313 [==============================] - 3s 8ms/step - loss: 0.0297 - accuracy: 0.9902\n",
            "\n",
            "Test accuracy: 0.9901999831199646\n"
          ]
        }
      ]
    }
  ]
}